{
 "cells": [
  {
   "cell_type": "markdown",
   "id": "d88012a8",
   "metadata": {},
   "source": [
    "# Testing a convolutional neural network on neutrino interactions\n",
    "\n",
    "- start by importing functions and loading the model we trained"
   ]
  },
  {
   "cell_type": "code",
   "execution_count": null,
   "id": "b9f653a0",
   "metadata": {},
   "outputs": [],
   "source": [
    "from nn_functions import *\n",
    "from nn_inputs import *\n",
    "\n",
    "# load model\n",
    "model = torch.load(model_name)\n",
    "# set model to test\n",
    "model.eval()\n",
    "\n",
    "criterion = nn.CrossEntropyLoss()"
   ]
  },
  {
   "cell_type": "markdown",
   "id": "19326f1a",
   "metadata": {},
   "source": [
    "Plot sample images as well as a confusion matrix from the testing data in the previous notebook."
   ]
  },
  {
   "cell_type": "code",
   "execution_count": null,
   "id": "4d9a04d7",
   "metadata": {},
   "outputs": [],
   "source": [
    "images,labels = next(iter(validation_loader))\n",
    "fig, axis = plt.subplots(3, 5, figsize=(25, 20))\n",
    "for i, ax in enumerate(axis.flat):\n",
    "    with torch.no_grad():\n",
    "        npimg = images[i].numpy()\n",
    "        npimg = np.transpose(npimg, (1, 2, 0))\n",
    "        label = label_map[int(labels[i])]\n",
    "        ax.imshow(npimg, cmap = \"Greys_r\")\n",
    "        ax.set(title = f\"{label}\")\n",
    "plt.show()\n",
    "\n",
    "\n",
    "actual, predicted = eval_for_confmat(validation_loader, model = model, criterion = criterion)\n",
    "confmat = comp_confmat(actual, predicted)\n",
    "plot_confusion_matrix(confmat, f\"{png_header}.png\")\n"
   ]
  },
  {
   "cell_type": "markdown",
   "id": "c95ef768",
   "metadata": {},
   "source": [
    "Plot sample images as well as a confusion matrix from new testing data."
   ]
  },
  {
   "cell_type": "code",
   "execution_count": null,
   "id": "b44131a7",
   "metadata": {},
   "outputs": [],
   "source": [
    "trial = dataloaders([\"/Users/sierra/Dropbox/datsets/nu_mu/data_8_8/QES/NC\"], [\"/Users/sierra/Dropbox/datsets/nu_mu/data_8_8/QES/CC\"], 50, datasize = 140)\n",
    "_, _, loader = trial.testing()\n",
    "\n",
    "images,labels = next(iter(loader))\n",
    "fig, axis = plt.subplots(3, 5, figsize=(25, 20))\n",
    "for i, ax in enumerate(axis.flat):\n",
    "    with torch.no_grad():\n",
    "        npimg = images[i].numpy()\n",
    "        npimg = np.transpose(npimg, (1, 2, 0))\n",
    "        label = label_map[int(labels[i])]\n",
    "        ax.imshow(npimg, cmap = \"Greys_r\")\n",
    "        ax.set(title = f\"{label}\")\n",
    "plt.show()\n",
    "\n",
    "actual, predicted = eval_for_confmat(loader, model = model, criterion = criterion)\n",
    "confmat = comp_confmat(actual, predicted)\n",
    "plot_confusion_matrix(confmat, f\"{png_header}.png\")"
   ]
  },
  {
   "cell_type": "markdown",
   "id": "14d9fadf",
   "metadata": {},
   "source": [
    "Compare your skills to the neural network's skills?"
   ]
  },
  {
   "cell_type": "code",
   "execution_count": null,
   "id": "0948fc05",
   "metadata": {},
   "outputs": [],
   "source": [
    "nn_score = 0\n",
    "your_score = 0\n",
    "total_games = 0"
   ]
  },
  {
   "cell_type": "code",
   "execution_count": null,
   "id": "526a2323",
   "metadata": {},
   "outputs": [],
   "source": [
    "# pick image below\n",
    "data_num = 0\n",
    "images, labels = next(iter(loader))\n",
    "npimg = images[data_num].numpy()\n",
    "npimg = np.transpose(npimg, (1, 2, 0))\n",
    "label = label_map[int(labels[i])]\n",
    "plt.imshow(npimg, cmap = \"Greys_r\")\n",
    "with torch.no_grad():\n",
    "    for data_,target_ in loader:\n",
    "        logps = model(data_)\n",
    "ps = torch.exp(logps)\n",
    "probab = list(ps.numpy()[0])\n",
    "plt.show()\n",
    "\n",
    "\n",
    "nn_guess = label_map[probab.index(max(probab))]\n",
    "actual_interaction = label_map[np.array(target_)[0]]\n",
    "your_guess = input(\"Your prediction? \")\n",
    "total_games += 1\n",
    "print(f\"Predicted interaction: {nn_guess}, confidence: {max(probab) * 100:.4}%\")\n",
    "print(\"Actual interaction: \", label_map[np.array(target_)[0]])\n",
    "\n",
    "if your_guess == actual_interaction:\n",
    "    your_score += 1\n",
    "    if nn_guess == actual_interaction:\n",
    "        print(\"You win and the computer does too!\")\n",
    "        nn_score += 1\n",
    "    else:\n",
    "        print(\"You win and the computer doesn't!\")\n",
    "        \n",
    "elif your_guess!= actual_interaction:\n",
    "    if nn_guess == actual_interaction:\n",
    "        print(\"The computer wins this one!\")\n",
    "        nn_score += 1\n",
    "    else:\n",
    "        print(\"Neither of you win...\")\n",
    "\n",
    "print(f\"You've won {your_score} out of {total_games} games so far. The NN has won {nn_score}.\")"
   ]
  },
  {
   "cell_type": "code",
   "execution_count": null,
   "id": "3f25dc1d",
   "metadata": {},
   "outputs": [],
   "source": []
  }
 ],
 "metadata": {
  "kernelspec": {
   "display_name": "Python 3 (ipykernel)",
   "language": "python",
   "name": "python3"
  },
  "language_info": {
   "codemirror_mode": {
    "name": "ipython",
    "version": 3
   },
   "file_extension": ".py",
   "mimetype": "text/x-python",
   "name": "python",
   "nbconvert_exporter": "python",
   "pygments_lexer": "ipython3",
   "version": "3.9.12"
  }
 },
 "nbformat": 4,
 "nbformat_minor": 5
}
