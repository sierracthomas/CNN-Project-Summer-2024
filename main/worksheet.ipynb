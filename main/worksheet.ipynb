{
 "cells": [
  {
   "cell_type": "markdown",
   "id": "cd6285f4",
   "metadata": {},
   "source": [
    "# Welcome to Syracuse University for the SURPh program! \n",
    "\n",
    "Let's start with a worksheet to help with skills we'll need this summer. For this worksheet, start by making your own branch on the repository. Then, fill in the blanks in the cell below. After you fill in the blanks, upload this worksheet to your branch to turn it in.\n",
    "\n",
    "Double-click a cell to get started."
   ]
  },
  {
   "cell_type": "markdown",
   "id": "b73c8485",
   "metadata": {},
   "source": [
    "## Part 0: basics\n",
    "\n",
    "\n",
    "1. What is a \"branch\" in GitHub?\n",
    "- answer\n",
    "2. What is a \"repository\" in GitHub?\n",
    "- answer\n",
    "3. What is a comment in python? How does the python interpreter read a comment?\n",
    "- answer\n",
    "4. Who can you ask if you have questions on this? \n",
    "- list names here!\n",
    "5. What is an \"and\" gate? What is an \"or\" gate? What is an \"xor\" gate?\n",
    "- answer\n",
    "6. What is `../` when it comes to looking up a directory on your computer?\n",
    "- answer"
   ]
  },
  {
   "cell_type": "markdown",
   "id": "6b657954",
   "metadata": {},
   "source": [
    "## Part 1: File I/O and plotting\n",
    "During the summer, we'll need to have python read in files and deal with the contents. In the cell below, read the file located at `datasets/sample_array.txt` and print the contents. You may use any library, but I recommend numpy! "
   ]
  },
  {
   "cell_type": "code",
   "execution_count": 1,
   "id": "9faa1b6d",
   "metadata": {},
   "outputs": [],
   "source": [
    "# read file and save contents to a variable\n",
    "# print the contents"
   ]
  },
  {
   "cell_type": "markdown",
   "id": "77f46bc0",
   "metadata": {},
   "source": [
    "Now that we have sample data, let's plot it. We'll use the first line as the x-axis, and the second line as the y-axis. In the cell below, print the first line."
   ]
  },
  {
   "cell_type": "code",
   "execution_count": 2,
   "id": "904b4701",
   "metadata": {},
   "outputs": [],
   "source": [
    "# print line"
   ]
  },
  {
   "cell_type": "markdown",
   "id": "29ab3d00",
   "metadata": {},
   "source": [
    "In the cell below, print the second line."
   ]
  },
  {
   "cell_type": "code",
   "execution_count": 3,
   "id": "5695048c",
   "metadata": {},
   "outputs": [],
   "source": [
    "# print line"
   ]
  },
  {
   "cell_type": "markdown",
   "id": "36bdff89",
   "metadata": {},
   "source": [
    "Now, use a function in `matplotlib.pyplot` to plot the data. Label your axes and add a title! "
   ]
  },
  {
   "cell_type": "code",
   "execution_count": 4,
   "id": "6fd05511",
   "metadata": {},
   "outputs": [],
   "source": [
    "# display plot here! "
   ]
  },
  {
   "cell_type": "markdown",
   "id": "73ae973d",
   "metadata": {},
   "source": [
    "What if we want to read in an image and display it? Read the image located at `datasets/five_real.png` and display it using `matplotlib.pyplot`. "
   ]
  },
  {
   "cell_type": "code",
   "execution_count": 5,
   "id": "875f72c9",
   "metadata": {},
   "outputs": [],
   "source": [
    "# read image\n",
    "# display it here"
   ]
  },
  {
   "cell_type": "markdown",
   "id": "54766639",
   "metadata": {},
   "source": [
    "## Part 2: Neural Networks\n",
    "This summer, we'll be training a convolutional neural network (or CNN) to recognize handwritten digits. After we accomplish this, we'll try training a CNN to recognize different types of neutrino interactions in liquid argon. \n",
    "\n",
    "https://developers.google.com/machine-learning/crash-course/introduction-to-neural-networks/playground-exercises"
   ]
  },
  {
   "cell_type": "markdown",
   "id": "a500b30c",
   "metadata": {},
   "source": [
    "1. What are the steps to get a neural network to \"learn\" and how do you test its accuracy?\n",
    "\n",
    "3. What is a \"linear activation function\" and how does it differ from a \"rectified linear unit function?\" Does one work better for you in the above exercise?\n",
    "- answer\n",
    "\n",
    "3. Can you get the spiral to work in the activity called \"Neural Network Spiral?\" If so, how many neurons and how many hidden layers do you need? What is the minimum you can achieve? \n",
    "- answer\n",
    "\n",
    "4. Take a screenshot of your successful output and display it below. Don't forget to attach the image by placing it in the `datasets` folder! "
   ]
  },
  {
   "cell_type": "code",
   "execution_count": 6,
   "id": "8ab193bb",
   "metadata": {},
   "outputs": [],
   "source": [
    "# read image in and display it"
   ]
  },
  {
   "cell_type": "markdown",
   "id": "0860dbb3",
   "metadata": {},
   "source": [
    "5. What is an \"epoch\"? \n",
    "- answer\n",
    "\n",
    "6. Can you ever train on too many epochs? Why or why not?\n",
    "- answer"
   ]
  },
  {
   "cell_type": "markdown",
   "id": "d5f12bf6",
   "metadata": {},
   "source": [
    "## Part 3: Neutrinos!\n",
    "\n",
    "We'll be training a neural network on images of neutrinos hitting liquid argon at 1 GeV energy levels. \n",
    "\n",
    "1. What are the neutrino flavors and what are their differences?\n",
    "- answer\n",
    "2. What kinds of interactions will we see if we look through the images?\n",
    "- answer\n",
    "3. Describe what each interaction looks like (are the resulting particles dispersed?)\n",
    "- answer\n",
    " "
   ]
  }
 ],
 "metadata": {
  "kernelspec": {
   "display_name": "Python 3 (ipykernel)",
   "language": "python",
   "name": "python3"
  },
  "language_info": {
   "codemirror_mode": {
    "name": "ipython",
    "version": 3
   },
   "file_extension": ".py",
   "mimetype": "text/x-python",
   "name": "python",
   "nbconvert_exporter": "python",
   "pygments_lexer": "ipython3",
   "version": "3.9.12"
  }
 },
 "nbformat": 4,
 "nbformat_minor": 5
}
