{
 "cells": [
  {
   "cell_type": "markdown",
   "id": "f3b27c71",
   "metadata": {},
   "source": [
    "## Making a Convolutional Neural Network in Python\n",
    "\n",
    "For the first part of the summer, we'll be training a neural network to recognize handwritten digits. We'll be doing this for a few reasons:\n",
    "\n",
    "1. This will help us to learn Python, a programming language that is incredibly important in day-to-day research and science. \n",
    "\n",
    "2. This will help us learn to use *libraries*, or Python code that has been written for us to use. This way, we don't have to start from the ground-up! We'll use Numerical Python, or \"NumPy\", which will handle math and some other functions for us. We'll also use PyTorch, written as \"torch\", which will help us to load images, create and train a neural network, and test how accurate the NN is.\n",
    "\n",
    "3. Although the handwriting-recognition (HR-REC) tutorial is already written, we don't have a tutorial for training the neural network on neutrino interactions. We'll need your help with this, as scientific research doesn't often come with instructions!\n",
    "\n",
    "\n",
    "## Ready to start?\n",
    "\n",
    "\n",
    "# Part 1: Getting a dataset and looking at the contents\n",
    "\n",
    "*Remember: coding is hard! It's a new language. If you understand everything fully, then you understand more than I do! If something doesn't make sense, keep trying and make sure to use resources such as google (particularly StackOverflow) and ask us questions.*"
   ]
  },
  {
   "cell_type": "markdown",
   "id": "ca86ad03",
   "metadata": {},
   "source": [
    "We'll start by importing this *handwrite_functions* file. It's not a real library, but instead a file I wrote that contains functions that you won't need to parse. When we do the following:\n",
    "\n",
    "`from <file> import *`\n",
    "\n",
    "Python acts as if we wrote all these functions in the current notebook. If we come across a function that doesn't look familiar to you, check the `handwrite_functions.py` file to see if it's there."
   ]
  },
  {
   "cell_type": "code",
   "execution_count": 1,
   "id": "6281966c",
   "metadata": {},
   "outputs": [],
   "source": [
    "# import libraries and some functions that are written for you \n",
    "from handwrite_functions import *"
   ]
  },
  {
   "cell_type": "markdown",
   "id": "3adb12bb",
   "metadata": {},
   "source": [
    "Now, we'll *define variables* that tell us where to save our dataset. This will be a folder relative to the current directory. "
   ]
  },
  {
   "cell_type": "code",
   "execution_count": 2,
   "id": "74eae1a2",
   "metadata": {},
   "outputs": [],
   "source": [
    "# where you want to save your dataset\n",
    "dataset = 'MY_DATASET'\n",
    "testset = 'MY_TESTSET'"
   ]
  },
  {
   "cell_type": "markdown",
   "id": "7eab96fd",
   "metadata": {},
   "source": [
    "PyTorch - the library we are using to make the NN - uses and operates on *tensors*. Tensors look like a bunch of different things, but here's an example. Say we want to do the following two equations:\n",
    "\n",
    "\n",
    "$$5 \\text{ apples} + 6 \\text{ apples} = ? $$\n",
    "$$2 \\text{ oranges} + 3 \\text{ oranges} = ? $$\n",
    "\n",
    "To solve these equations, it won't take us much time - we'd do the first one, then the second one. But what if the math was much more complicated? Or, what if we needed to do these calculations with grapefruits, and kumquats, and cherries, and ...\n",
    "\n",
    "\n",
    "Enter a 2-dimensional tensor (if this looks familiar to you, you might be familiar with matrices, a type of tensor). We can put these values in the tensor to do both of the operations at once. \n",
    "\n",
    "$$\n",
    "\\begin{bmatrix}\n",
    "    5 \\text{ apples}      \\\\\n",
    "    2 \\text{ oranges}      \n",
    "\\end{bmatrix}\n",
    "+ \n",
    "\\begin{bmatrix}\n",
    "    6 \\text{ apples}      \\\\\n",
    "    3 \\text{ oranges}      \n",
    "\\end{bmatrix}\n",
    "= \n",
    "\\begin{bmatrix}\n",
    "    x \\text{ apples}      \\\\\n",
    "    y \\text{ oranges}     \n",
    "\\end{bmatrix} \n",
    "$$\n",
    "\n",
    "Do you see how the tensor keeps the *units* separate? We can't ever add apples and oranges together, just like we can't add the matrix vertically. If we had more fruits, we might add another row for each fruit. We could also add columns. If needed, we could make the tensor three dimensions (so add another layer of data behind it), or as many dimensions as we needed. \n",
    "\n",
    "It's good to know what a tensor is, as we'll see the term repeatedly, but we won't have to calculate them by hand. In machine learning, these tensors can be HUGE!"
   ]
  },
  {
   "cell_type": "markdown",
   "id": "37e2b7d6",
   "metadata": {},
   "source": [
    "## Getting the data\n",
    "\n",
    "Python is tricky sometimes - I see the word \"transform\" six times in the next 7 lines. \n",
    "\n",
    "`transform = ` is a variable name that we use to initialize a type of function that will operate on our dataset. \n",
    "\n",
    "`transforms.Compose()` is a function from PyTorch's TorchVision library. The arguments say that it will take the object, convert it to a tensor (via `transforms.ToTensor()`), and normalize it with a mean of 0.5 (first argument), and a standard deviation of 0.5 (second argument). \n",
    "\n",
    "We'll also download the training and testing sets from MNIST. One of the arguments `datasets.MNIST(<args>, transform = transform)` lets us apply our initialized function to the data."
   ]
  },
  {
   "cell_type": "code",
   "execution_count": 3,
   "id": "2a9dddfa",
   "metadata": {},
   "outputs": [],
   "source": [
    "transform = transforms.Compose([transforms.ToTensor(),\n",
    "                              transforms.Normalize((0.5,), (0.5,)),\n",
    "                              ])\n",
    "\n",
    "# download training sets and test sets \n",
    "trainset = datasets.MNIST(dataset, download=True, train=True, transform=transform)\n",
    "valset = datasets.MNIST(testset, download=True, train=False, transform=transform)"
   ]
  },
  {
   "cell_type": "code",
   "execution_count": 6,
   "id": "57a315f3",
   "metadata": {},
   "outputs": [
    {
     "data": {
      "text/plain": [
       "(Dataset MNIST\n",
       "     Number of datapoints: 60000\n",
       "     Root location: MY_DATASET\n",
       "     Split: Train\n",
       "     StandardTransform\n",
       " Transform: Compose(\n",
       "                ToTensor()\n",
       "                Normalize(mean=(0.5,), std=(0.5,))\n",
       "            ),\n",
       " Dataset MNIST\n",
       "     Number of datapoints: 10000\n",
       "     Root location: MY_TESTSET\n",
       "     Split: Test\n",
       "     StandardTransform\n",
       " Transform: Compose(\n",
       "                ToTensor()\n",
       "                Normalize(mean=(0.5,), std=(0.5,))\n",
       "            ))"
      ]
     },
     "execution_count": 6,
     "metadata": {},
     "output_type": "execute_result"
    }
   ],
   "source": [
    "trainset, valset"
   ]
  },
  {
   "cell_type": "markdown",
   "id": "b1f16413",
   "metadata": {},
   "source": [
    "Now that we have our datasets, let's go ahead and create batches of 64 random digits. "
   ]
  },
  {
   "cell_type": "code",
   "execution_count": 4,
   "id": "da245bc9",
   "metadata": {},
   "outputs": [
    {
     "name": "stdout",
     "output_type": "stream",
     "text": [
      "images.shape:  torch.Size([64, 1, 28, 28])\n",
      "labels.shape:  torch.Size([64])\n",
      "\n",
      "\n",
      "Number of images in batch: 64  \n",
      "Number of pixels in 1 image: [28, 28]\n",
      "Number of labels in batch: 64\n"
     ]
    }
   ],
   "source": [
    "# load training sets and test sets in batch sizes of 64\n",
    "trainloader = torch.utils.data.DataLoader(trainset, batch_size=64, shuffle=True)\n",
    "valloader = torch.utils.data.DataLoader(valset, batch_size=64, shuffle=True)\n",
    "\n",
    "# prepare loaded data sets to iterate over\n",
    "dataiter = iter(trainloader)\n",
    "images, labels = next(dataiter)\n",
    "\n",
    "\n",
    "# print shape of images - should be \"[64, 1, 28, 28]\"\n",
    "print(\"images.shape: \", images.shape)\n",
    "# print shape of labels - should be \"[64]\"\n",
    "print(\"labels.shape: \", labels.shape)\n",
    "\n",
    "# print number of images (we asked for 64 earlier), print number of pixels\n",
    "print(f\"\\n\\nNumber of images in batch: {images.shape[0]}  \\nNumber of pixels in {images.shape[1]} image: [{images.shape[2]}, {images.shape[3]}]\")\n",
    "\n",
    "# then print number of labels in each batch - each image should have a label (the \"truth\" value) so we expect 64!\n",
    "print(f\"Number of labels in batch: {labels.shape[0]}\")\n"
   ]
  },
  {
   "cell_type": "markdown",
   "id": "81ba1b58",
   "metadata": {},
   "source": [
    "## Looking at the data\n",
    "Now, we have downloaded a dataset and transformed the data into tensors that PyTorch will cooperate with. The data is even in batches of 64 images! I'll plot 64 of the images so that we can also see what PyTorch will take in. "
   ]
  },
  {
   "cell_type": "code",
   "execution_count": 9,
   "id": "89af03c9",
   "metadata": {},
   "outputs": [
    {
     "name": "stdout",
     "output_type": "stream",
     "text": [
      "64 handwritten digits in the training set\n"
     ]
    },
    {
     "data": {
      "image/png": "[encoded data removed]",
      "text/plain": [
       "<Figure size 432x288 with 64 Axes>"
      ]
     },
     "metadata": {
      "needs_background": "light"
     },
     "output_type": "display_data"
    }
   ],
   "source": [
    "\n",
    "print(\"64 handwritten digits in the training set\")\n",
    "figure = plt.figure()\n",
    "num_of_images = 64\n",
    "for index in range(0, num_of_images):\n",
    "    plt.subplot(8, 8, index + 1)\n",
    "    plt.axis('off')\n",
    "    plt.imshow(images[index].numpy().squeeze(), cmap='gray_r')"
   ]
  },
  {
   "cell_type": "markdown",
   "id": "46981f41",
   "metadata": {},
   "source": [
    "Now, I'll plot the first ten digits. I want to check that our labels, or *truth values* match up with each number. "
   ]
  },
  {
   "cell_type": "code",
   "execution_count": 14,
   "id": "ddbf992f",
   "metadata": {},
   "outputs": [
    {
     "name": "stdout",
     "output_type": "stream",
     "text": [
      "The first 10 digits in the training set\n"
     ]
    },
    {
     "data": {
      "image/png": "[encoded data removed]",
      "text/plain": [
       "<Figure size 432x288 with 10 Axes>"
      ]
     },
     "metadata": {
      "needs_background": "light"
     },
     "output_type": "display_data"
    },
    {
     "name": "stdout",
     "output_type": "stream",
     "text": [
      "The corresponding labels are: \n",
      "tensor([9, 5, 2, 7, 0, 4, 8, 1, 9, 1])\n"
     ]
    }
   ],
   "source": [
    "print(\"The first 10 digits in the training set\")\n",
    "figure = plt.figure()\n",
    "num_of_images = 10\n",
    "for index in range(0, num_of_images):\n",
    "    plt.subplot(1, 10, index + 1)\n",
    "    plt.axis('off')\n",
    "    plt.imshow(images[index].numpy().squeeze(), cmap='gray_r')\n",
    "plt.show()\n",
    "print(\"The corresponding labels are: \")\n",
    "print(labels[0:num_of_images])"
   ]
  },
  {
   "cell_type": "markdown",
   "id": "91194cc1",
   "metadata": {},
   "source": [
    "# Activities for tutorial 1\n",
    "\n",
    "Questions: \n",
    "\n",
    "- what is the difference between a training set and a testing set?\n",
    "- how many dimensions is the `images` tensor?\n",
    "- what is normalization? \n",
    "- In the last coding cell: Do the labels match the images? What datatype are the labels stored in?\n",
    "\n",
    "\n",
    "Well done on finishing the first tutorial! In the next one, we'll train a mini neural network!"
   ]
  },
  {
   "cell_type": "code",
   "execution_count": null,
   "id": "682481ee",
   "metadata": {},
   "outputs": [],
   "source": []
  }
 ],
 "metadata": {
  "kernelspec": {
   "display_name": "Python 3 (ipykernel)",
   "language": "python",
   "name": "python3"
  },
  "language_info": {
   "codemirror_mode": {
    "name": "ipython",
    "version": 3
   },
   "file_extension": ".py",
   "mimetype": "text/x-python",
   "name": "python",
   "nbconvert_exporter": "python",
   "pygments_lexer": "ipython3",
   "version": "3.9.12"
  }
 },
 "nbformat": 4,
 "nbformat_minor": 5
}
