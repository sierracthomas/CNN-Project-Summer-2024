{
 "cells": [
  {
   "cell_type": "markdown",
   "id": "aebf54a0",
   "metadata": {},
   "source": [
    "## Part 4: Testing Our PyTorch model\n",
    "\n",
    "We'll start by loading the same neural network as we trained in the last tutorial. This step will save us time (a few minutes of training in this example but it'll save us a lot of time when we train it on neutrino interactions). "
   ]
  },
  {
   "cell_type": "code",
   "execution_count": null,
   "id": "2eba891e",
   "metadata": {},
   "outputs": [],
   "source": [
    "# import libraries and some functions that are written for you \n",
    "from handwrite_functions import *\n",
    "model = torch.load('./my_mnist_model.pt')"
   ]
  },
  {
   "cell_type": "markdown",
   "id": "0b91ad17",
   "metadata": {},
   "source": [
    "Again, we'll load the datasets as before. We'll also define a path to save our confusion matrix figure."
   ]
  },
  {
   "cell_type": "code",
   "execution_count": null,
   "id": "b07f5ff5",
   "metadata": {},
   "outputs": [],
   "source": [
    "# where you want to save your dataset\n",
    "dataset = 'MY_DATASET'\n",
    "testset = 'MY_TESTSET'\n",
    "\n",
    "# where you want to save the picture of your confusion matrix\n",
    "savepic = \"confusionmatrix.png\"\n",
    "\n",
    "transform = transforms.Compose([transforms.ToTensor(),\n",
    "                              transforms.Normalize((0.5,), (0.5,)),\n",
    "                              ])\n",
    "\n",
    "# download training sets and test sets \n",
    "trainset = datasets.MNIST(dataset, download=False, train=True, transform=transform)\n",
    "valset = datasets.MNIST(testset, download=False, train=False, transform=transform)\n",
    "\n",
    "# load training sets and test sets in batch sizes of 64\n",
    "trainloader = torch.utils.data.DataLoader(trainset, batch_size=64, shuffle=True)\n",
    "valloader = torch.utils.data.DataLoader(valset, batch_size=64, shuffle=True)\n",
    "\n",
    "# prepare loaded data sets to iterate over\n",
    "dataiter = iter(trainloader)\n",
    "images, labels = next(dataiter)"
   ]
  },
  {
   "cell_type": "markdown",
   "id": "7733d0d6",
   "metadata": {},
   "source": [
    "Time to test our NN on a single image! Do you ever see it guessing incorrectly? If not, what is the lowest confidence you can see?"
   ]
  },
  {
   "cell_type": "code",
   "execution_count": null,
   "id": "11a899e8",
   "metadata": {},
   "outputs": [],
   "source": [
    "# pick image below\n",
    "data_num = 44\n",
    "images, labels = next(iter(valloader))\n",
    "img = images[data_num].view(1, 784)\n",
    "plt.imshow(images[data_num].numpy().squeeze(), cmap='gray_r')\n",
    "with torch.no_grad():\n",
    "    logps = model(img)\n",
    "\n",
    "ps = torch.exp(logps)\n",
    "probab = list(ps.numpy()[0])\n",
    "print(\"Predicted Digit =\", probab.index(max(probab)))\n",
    "print(f\"How sure?: {max(probab) * 100:.4} %\")\n",
    "# Print out original shape and new shapea\n",
    "print(f\"Original shape: {img.shape}\")"
   ]
  },
  {
   "cell_type": "markdown",
   "id": "12076644",
   "metadata": {},
   "source": [
    "I personally haven't seen an instance where it provides the wrong output, but let's test it on the entirety of our test set (10,000 images). "
   ]
  },
  {
   "cell_type": "code",
   "execution_count": null,
   "id": "2a6ceb9d",
   "metadata": {},
   "outputs": [],
   "source": [
    "# now, let's have the code automatically look through our \"testing\" dataset and let us know how many it gets right. \n",
    "y_test = []\n",
    "predictions = []\n",
    "correct_count, all_count = 0, 0\n",
    "for images,labels in valloader:\n",
    "    for i in range(len(labels)):\n",
    "        img = images[i].view(1, 784)\n",
    "        with torch.no_grad():\n",
    "            logps = model(img)\n",
    "\n",
    "\n",
    "        ps = torch.exp(logps)\n",
    "        probab = list(ps.numpy()[0])\n",
    "        pred_label = probab.index(max(probab))\n",
    "        predictions.append(pred_label)\n",
    "        true_label = labels.numpy()[i]\n",
    "        y_test.append(true_label)\n",
    "        if(true_label == pred_label):\n",
    "            correct_count += 1\n",
    "        all_count += 1\n",
    "\n",
    "print(\"Number Of Images Tested =\", all_count)\n",
    "print(\"\\nModel Accuracy =\", (correct_count/all_count))\n",
    "\n"
   ]
  },
  {
   "cell_type": "markdown",
   "id": "7a4f5559",
   "metadata": {},
   "source": [
    "Alright, it looks pretty good! \n",
    "\n",
    "---\n",
    "## Confusion matrix\n",
    "\n",
    "A good thing to do is see how many times the NN mistakes similar numbers, such as thinking a $4$ is a $9$ when the label, or answer key, says that it's a $4$. It's called a \"confusion\" matrix because it will \n",
    "\n",
    "It's nice to display this information in a plot. This has been coded for you, but it is important to know how to make one. We'll start with an empty 2-d tensor:\n",
    "\\\n",
    "\\begin{matrix}\n",
    "\\begin{bmatrix}\n",
    "0 \\\\\n",
    "1 \\\\\n",
    "2 \\\\\n",
    "3 \\\\\n",
    "4 \\\\\n",
    "5 \\\\\n",
    "6 \\\\\n",
    "7 \\\\\n",
    "8 \\\\\n",
    "9 \\\\\n",
    "\\end{bmatrix}\n",
    "\\quad\n",
    "\\begin{bmatrix}\n",
    "0 & 0 & 0 & 0 & 0 & 0 & 0 & 0 & 0 & 0 \\\\\n",
    "0 & 0 & 0 & 0 & 0 & 0 & 0 & 0 & 0 & 0 \\\\\n",
    "0 & 0 & 0 & 0 & 0 & 0 & 0 & 0 & 0 & 0 \\\\\n",
    "0 & 0 & 0 & 0 & 0 & 0 & 0 & 0 & 0 & 0 \\\\\n",
    "0 & 0 & 0 & 0 & 0 & 0 & 0 & 0 & 0 & 0 \\\\\n",
    "0 & 0 & 0 & 0 & 0 & 0 & 0 & 0 & 0 & 0 \\\\\n",
    "0 & 0 & 0 & 0 & 0 & 0 & 0 & 0 & 0 & 0 \\\\\n",
    "0 & 0 & 0 & 0 & 0 & 0 & 0 & 0 & 0 & 0 \\\\\n",
    "0 & 0 & 0 & 0 & 0 & 0 & 0 & 0 & 0 & 0 \\\\\n",
    "0 & 0 & 0 & 0 & 0 & 0 & 0 & 0 & 0 & 0 \\\\\n",
    "\\end{bmatrix}\n",
    "\\end{matrix}\n",
    "\n",
    "\n",
    "\n",
    "\n",
    "\\begin{bmatrix}\n",
    "0 & 1 & 2 & 3 & 4 & 5 & 6 & 7 & 8 & 9\n",
    "\\end{bmatrix}\n",
    "\n",
    "\n",
    "This tensor is 10 places by 10 places. We'll set the horizontal axis to be the truth values corresponding to each digit. We'll set the vertical axis to be the NN's predicted values for each digit. I've added these in blocks below and to the left of our matrix. \n",
    "\n",
    "Now, all there is to do is test our NN and save the results. Imagine that we provide a test image of a $5$ and it predicts the value to be a $6$. We would add one to the cell that corresponds to `truth == 5` and `predicted == 6`. \n",
    "\n",
    "\n",
    "\\begin{bmatrix}\n",
    "0 & 0 & 0 & 0 & 0 & 0 & 0 & 0 & 0 & 0 \\\\\n",
    "0 & 0 & 0 & 0 & 0 & 0 & 0 & 0 & 0 & 0 \\\\\n",
    "0 & 0 & 0 & 0 & 0 & 0 & 0 & 0 & 0 & 0 \\\\\n",
    "0 & 0 & 0 & 0 & 0 & 1 & 0 & 0 & 0 & 0 \\\\\n",
    "0 & 0 & 0 & 0 & 0 & 0 & 0 & 0 & 0 & 0 \\\\\n",
    "0 & 0 & 0 & 0 & 0 & 0 & 0 & 0 & 0 & 0 \\\\\n",
    "0 & 0 & 0 & 0 & 0 & 0 & 0 & 0 & 0 & 0 \\\\\n",
    "0 & 0 & 0 & 0 & 0 & 0 & 0 & 0 & 0 & 0 \\\\\n",
    "0 & 0 & 0 & 0 & 0 & 0 & 0 & 0 & 0 & 0 \\\\\n",
    "0 & 0 & 0 & 0 & 0 & 0 & 0 & 0 & 0 & 0 \\\\\n",
    "\\end{bmatrix}\n",
    "\n",
    "\n",
    "Now, if we give it a test image of a $7$ and it predicts it to be a $7$, we'll add 1 to the corresponding cell. \n",
    "\n",
    "\\begin{bmatrix}\n",
    "0 & 0 & 0 & 0 & 0 & 0 & 0 & 0 & 0 & 0 \\\\\n",
    "0 & 0 & 0 & 0 & 0 & 0 & 0 & 0 & 0 & 0 \\\\\n",
    "0 & 0 & 0 & 0 & 0 & 0 & 0 & 1 & 0 & 0 \\\\\n",
    "0 & 0 & 0 & 0 & 0 & 1 & 0 & 0 & 0 & 0 \\\\\n",
    "0 & 0 & 0 & 0 & 0 & 0 & 0 & 0 & 0 & 0 \\\\\n",
    "0 & 0 & 0 & 0 & 0 & 0 & 0 & 0 & 0 & 0 \\\\\n",
    "0 & 0 & 0 & 0 & 0 & 0 & 0 & 0 & 0 & 0 \\\\\n",
    "0 & 0 & 0 & 0 & 0 & 0 & 0 & 0 & 0 & 0 \\\\\n",
    "0 & 0 & 0 & 0 & 0 & 0 & 0 & 0 & 0 & 0 \\\\\n",
    "0 & 0 & 0 & 0 & 0 & 0 & 0 & 0 & 0 & 0 \\\\\n",
    "\\end{bmatrix}\n",
    "\n",
    "\n",
    "Let's print the confusion matrix from our NN and see what it looks like.\n"
   ]
  },
  {
   "cell_type": "code",
   "execution_count": null,
   "id": "b4fc4e25",
   "metadata": {},
   "outputs": [],
   "source": [
    "confusion_matrix = comp_confmat(y_test, predictions)\n",
    "print(confusion_matrix)"
   ]
  },
  {
   "cell_type": "code",
   "execution_count": null,
   "id": "893766e6",
   "metadata": {},
   "outputs": [],
   "source": [
    "plot_confusion_matrix(confusion_matrix, savepic)"
   ]
  },
  {
   "cell_type": "markdown",
   "id": "8bc7fa91",
   "metadata": {},
   "source": [
    "Activities: \n",
    "\n",
    "- what does a confusion matrix with no \"confusion\" look like?\n",
    "- what should the sum of all the cells look like? Show how you would calculate that. \n",
    "- which numbers confused the NN most? Which numbers would confuse you if you were just learning to recognize digits?\n",
    "- why does my plotted confusion matrix look different than the example one in the tutorial? Which is better?"
   ]
  }
 ],
 "metadata": {
  "kernelspec": {
   "display_name": "Python 3 (ipykernel)",
   "language": "python",
   "name": "python3"
  },
  "language_info": {
   "codemirror_mode": {
    "name": "ipython",
    "version": 3
   },
   "file_extension": ".py",
   "mimetype": "text/x-python",
   "name": "python",
   "nbconvert_exporter": "python",
   "pygments_lexer": "ipython3",
   "version": "3.9.12"
  }
 },
 "nbformat": 4,
 "nbformat_minor": 5
}
