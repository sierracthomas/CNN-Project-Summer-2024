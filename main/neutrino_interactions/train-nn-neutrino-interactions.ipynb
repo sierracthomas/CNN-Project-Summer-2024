{
 "cells": [
  {
   "cell_type": "markdown",
   "id": "b20d75f8",
   "metadata": {},
   "source": [
    "# Training a convolutional neural network on neutrino interactions\n",
    "\n",
    "- start by modifying `nn_inputs.py` with your desired parameters - this is so the testing notebook also has these available."
   ]
  },
  {
   "cell_type": "code",
   "execution_count": null,
   "id": "598c6622",
   "metadata": {},
   "outputs": [],
   "source": [
    "from nn_functions import *\n",
    "from nn_inputs import *\n",
    "\n",
    "print(\"Number of NC images: \", len(pathNC), len(labelNC))\n",
    "print(\"Number of CC images: \", len(pathCC), len(labelCC))\n",
    "print(f\"Training length is: {len(pathNC) - testsize_per_channel} per channel. Testing length is {testsize_per_channel} per channel.\")"
   ]
  },
  {
   "cell_type": "code",
   "execution_count": null,
   "id": "d80782d6",
   "metadata": {},
   "outputs": [],
   "source": [
    "# use CUDA if gpus are available \n",
    "#device = torch.device(\"cuda\" if torch.cuda.is_available() else \"cpu\")\n",
    "# choose criterion (loss function) and optimizer\n",
    "criterion = nn.CrossEntropyLoss()\n",
    "optimizer = optim.RMSprop(model.parameters(),lr=1e-4)\n",
    "print(f\"Using {device}.\")"
   ]
  },
  {
   "cell_type": "markdown",
   "id": "7d99ce82",
   "metadata": {},
   "source": [
    "Below is a preview of your image data:"
   ]
  },
  {
   "cell_type": "code",
   "execution_count": null,
   "id": "06b3ad21",
   "metadata": {
    "scrolled": true
   },
   "outputs": [],
   "source": [
    "images,labels = next(iter(validation_loader))\n",
    "fig, axis = plt.subplots(3, 5, figsize=(25, 20))\n",
    "for i, ax in enumerate(axis.flat):\n",
    "    with torch.no_grad():\n",
    "        npimg = images[i].numpy()\n",
    "        npimg = np.transpose(npimg, (1, 2, 0))\n",
    "        label = label_map[int(labels[i])]\n",
    "        ax.imshow(npimg, cmap = \"Greys_r\")\n",
    "        ax.set(title = f\"{label}\")"
   ]
  },
  {
   "cell_type": "markdown",
   "id": "97f0a63f",
   "metadata": {},
   "source": [
    "Train the CNN below:"
   ]
  },
  {
   "cell_type": "code",
   "execution_count": null,
   "id": "bb48ecc6",
   "metadata": {},
   "outputs": [],
   "source": [
    "# train cnn \n",
    "TRAIN_LOSS = []\n",
    "TRAIN_ACCURACY = []\n",
    "\n",
    "for epoch in range(1, EPOCH_NUMBER + 1):\n",
    "    epoch_loss = 0.0\n",
    "    correct = 0\n",
    "    total = 0\n",
    "    for data_,target_ in train_loader:\n",
    "        target_ = target_.to(device)\n",
    "        data_ = data_.to(device)\n",
    "        \n",
    "        optimizer.zero_grad()\n",
    "        # forward pass\n",
    "        outputs = model(data_)\n",
    "        loss = criterion(outputs,target_)\n",
    "        \n",
    "        # backwards pass\n",
    "        loss.backward()\n",
    "        optimizer.step()\n",
    "        \n",
    "        epoch_loss = epoch_loss + loss.item()\n",
    "        _, pred = torch.max(outputs, dim = 1)\n",
    "        correct = correct + torch.sum(pred == target_).item()\n",
    "        total += target_.size(0)\n",
    "    \n",
    "    TRAIN_LOSS.append(epoch_loss)\n",
    "    TRAIN_ACCURACY.append(100 * correct / total)\n",
    "    print(f\"Epoch {epoch}: Accuracy: {100 * correct/total}, Loss: {epoch_loss}\")\n",
    "    \n",
    "    # plot confusion matrix during desired epochs\n",
    "    if epoch % plot_frequency == 0:\n",
    "        actual, predicted = eval_for_confmat(validation_loader, criterion = criterion)\n",
    "        confmat = comp_confmat(actual, predicted)\n",
    "        plot_confusion_matrix(confmat, f\"{png_header}_{epoch}.png\")\n",
    "        # set model back to training mode \n",
    "        model.train()"
   ]
  },
  {
   "cell_type": "code",
   "execution_count": null,
   "id": "966838e4",
   "metadata": {},
   "outputs": [],
   "source": [
    "fig, ax = plt.subplots(1, 2, figsize=(12, 6))\n",
    "ax[0].plot(range(1, EPOCH_NUMBER + 1),TRAIN_LOSS)\n",
    "ax[0].set_xlabel(\"Epoch\")\n",
    "ax[0].set_ylabel(\"Loss\")\n",
    "\n",
    "ax[1].plot(range(1, EPOCH_NUMBER + 1),TRAIN_ACCURACY)\n",
    "ax[1].set_ylabel(\"Validation accuracy (%)\")\n",
    "ax[1].set_xlabel(\"Epoch\")\n",
    "plt.savefig(f\"{png_header}_loss.png\")\n",
    "plt.show()"
   ]
  },
  {
   "cell_type": "code",
   "execution_count": null,
   "id": "97025cb9",
   "metadata": {},
   "outputs": [],
   "source": [
    "# check initial seed and save model\n",
    "torch.random.initial_seed()\n",
    "torch.save(model, model_name)"
   ]
  },
  {
   "cell_type": "code",
   "execution_count": null,
   "id": "3f059cef",
   "metadata": {},
   "outputs": [],
   "source": []
  }
 ],
 "metadata": {
  "kernelspec": {
   "display_name": "Python 3 (ipykernel)",
   "language": "python",
   "name": "python3"
  },
  "language_info": {
   "codemirror_mode": {
    "name": "ipython",
    "version": 3
   },
   "file_extension": ".py",
   "mimetype": "text/x-python",
   "name": "python",
   "nbconvert_exporter": "python",
   "pygments_lexer": "ipython3",
   "version": "3.9.12"
  }
 },
 "nbformat": 4,
 "nbformat_minor": 5
}
